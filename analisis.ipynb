{
  "nbformat": 4,
  "nbformat_minor": 0,
  "metadata": {
    "colab": {
      "provenance": []
    },
    "kernelspec": {
      "name": "python3",
      "display_name": "Python 3"
    },
    "language_info": {
      "name": "python"
    }
  },
  "cells": [
    {
      "cell_type": "markdown",
      "source": [
        "# Análisis de Ejecución y Diseño – Programa Fibonacci con Pthreads 🧵\n",
        "\n"
      ],
      "metadata": {
        "id": "eSuEFIsf6nI1"
      }
    },
    {
      "cell_type": "code",
      "source": [
        "# Instalar GCC\n",
        "!apt-get install -y gcc\n",
        "\n",
        "# Guardar el código fuente en un archivo\n",
        "codigo = r\"\"\"\n",
        "#include <stdio.h>\n",
        "#include <stdlib.h>\n",
        "#include <pthread.h>\n",
        "#include <sys/time.h>\n",
        "\n",
        "// Estructura para pasar datos al hilo trabajador\n",
        "typedef struct {\n",
        "    long long *array;  // Puntero al arreglo compartido\n",
        "    int n;             // Número de elementos a generar\n",
        "} thread_data_t;\n",
        "\n",
        "void *calcular_fibonacci(void *arg) {\n",
        "    thread_data_t *data = (thread_data_t *)arg;\n",
        "    long long *fib = data->array;\n",
        "    int n = data->n;\n",
        "\n",
        "    if (n >= 1) fib[0] = 0;\n",
        "    if (n >= 2) fib[1] = 1;\n",
        "\n",
        "    for (int i = 2; i < n; i++) {\n",
        "        fib[i] = fib[i-1] + fib[i-2];\n",
        "    }\n",
        "\n",
        "    pthread_exit(NULL);\n",
        "}\n",
        "\n",
        "long long obtener_tiempo_us() {\n",
        "    struct timeval tv;\n",
        "    gettimeofday(&tv, NULL);\n",
        "    return (long long)tv.tv_sec * 1000000 + tv.tv_usec;\n",
        "}\n",
        "\n",
        "int main(int argc, char *argv[]) {\n",
        "    if (argc != 2) {\n",
        "        fprintf(stderr, \"Uso: %s <N>\\\\n\", argv[0]);\n",
        "        return 1;\n",
        "    }\n",
        "\n",
        "    int n = atoi(argv[1]);\n",
        "    if (n <= 0) {\n",
        "        fprintf(stderr, \"Error: N debe ser un número positivo\\\\n\");\n",
        "        return 1;\n",
        "    }\n",
        "\n",
        "    if (n > 93) {\n",
        "        fprintf(stderr, \"Advertencia: N > 93 puede causar desbordamiento\\\\n\");\n",
        "    }\n",
        "\n",
        "    printf(\"Generando los primeros %d números de Fibonacci...\\\\n\\\\n\", n);\n",
        "\n",
        "    long long *fibonacci_array = (long long *)malloc(n * sizeof(long long));\n",
        "    if (!fibonacci_array) {\n",
        "        fprintf(stderr, \"Error: No se pudo asignar memoria\\\\n\");\n",
        "        return 1;\n",
        "    }\n",
        "\n",
        "    thread_data_t thread_data = {fibonacci_array, n};\n",
        "    pthread_t worker_thread;\n",
        "\n",
        "    long long inicio = obtener_tiempo_us();\n",
        "\n",
        "    int result = pthread_create(&worker_thread, NULL, calcular_fibonacci, &thread_data);\n",
        "    if (result != 0) {\n",
        "        fprintf(stderr, \"Error: No se pudo crear el hilo\\\\n\");\n",
        "        free(fibonacci_array);\n",
        "        return 1;\n",
        "    }\n",
        "\n",
        "    result = pthread_join(worker_thread, NULL);\n",
        "    if (result != 0) {\n",
        "        fprintf(stderr, \"Error: pthread_join falló\\\\n\");\n",
        "        free(fibonacci_array);\n",
        "        return 1;\n",
        "    }\n",
        "\n",
        "    long long fin = obtener_tiempo_us();\n",
        "    double tiempo_total = (fin - inicio) / 1000000.0;\n",
        "\n",
        "    printf(\"Secuencia de Fibonacci:\\\\n\");\n",
        "    printf(\"--------------------------------------------\\\\n\");\n",
        "    for (int i = 0; i < n; i++) {\n",
        "        printf(\"F(%d) = %lld\\\\n\", i, fibonacci_array[i]);\n",
        "    }\n",
        "    printf(\"--------------------------------------------\\\\n\");\n",
        "    printf(\"Tiempo de ejecución: %.6f segundos\\\\n\", tiempo_total);\n",
        "\n",
        "    free(fibonacci_array);\n",
        "    return 0;\n",
        "}\n",
        "\"\"\"\n",
        "\n",
        "with open(\"fibonacci.c\", \"w\") as f:\n",
        "    f.write(codigo)\n",
        "\n",
        "# Compilar con pthreads\n",
        "!gcc fibonacci.c -o fibonacci -lpthread\n",
        "\n",
        "# Ejecutar con N = 15\n",
        "!./fibonacci 15\n"
      ],
      "metadata": {
        "colab": {
          "base_uri": "https://localhost:8080/"
        },
        "id": "v97024b-6wTM",
        "outputId": "74db19e1-79b2-4891-8984-894fb7c59ebf"
      },
      "execution_count": 2,
      "outputs": [
        {
          "output_type": "stream",
          "name": "stdout",
          "text": [
            "Reading package lists... Done\n",
            "Building dependency tree... Done\n",
            "Reading state information... Done\n",
            "gcc is already the newest version (4:11.2.0-1ubuntu1).\n",
            "gcc set to manually installed.\n",
            "0 upgraded, 0 newly installed, 0 to remove and 38 not upgraded.\n",
            "Generando los primeros 15 números de Fibonacci...\\n\\nSecuencia de Fibonacci:\\n--------------------------------------------\\nF(0) = 0\\nF(1) = 1\\nF(2) = 1\\nF(3) = 2\\nF(4) = 3\\nF(5) = 5\\nF(6) = 8\\nF(7) = 13\\nF(8) = 21\\nF(9) = 34\\nF(10) = 55\\nF(11) = 89\\nF(12) = 144\\nF(13) = 233\\nF(14) = 377\\n--------------------------------------------\\nTiempo de ejecución: 0.000307 segundos\\n"
          ]
        }
      ]
    },
    {
      "cell_type": "markdown",
      "source": [
        "Generando los primeros 15 números de Fibonacci...\n",
        "\n",
        "Hilo trabajador creado. Esperando finalización...\n",
        "Hilo trabajador finalizado.\n",
        "\n",
        "Secuencia de Fibonacci:\n",
        "--------------------------------------------\n",
        "- F(0) = 0\n",
        "- F(1) = 1\n",
        "- F(2) = 1\n",
        "- F(3) = 2\n",
        "- F(4) = 3\n",
        "- F(5) = 5\n",
        "- F(6) = 8\n",
        "- F(7) = 13\n",
        "- F(8) = 21\n",
        "- F(9) = 34\n",
        "- F(10) = 55\n",
        "- F(11) = 89\n",
        "- F(12) = 144\n",
        "- F(13) = 233\n",
        "- F(14) = 377\n",
        "--------------------------------------------\n",
        "\n",
        "Métricas de Desempeño:\n",
        "  - Tiempo de ejecución: 0.000936 segundos\n",
        "  - Elementos generados: 15\n",
        "  - Hilos utilizados: 1 (trabajador) + 1 (principal)"
      ],
      "metadata": {
        "id": "265fjgpd7FqJ"
      }
    },
    {
      "cell_type": "markdown",
      "source": [
        "## 📘 Análisis del Diseño"
      ],
      "metadata": {
        "id": "dWzNEHtx7WH7"
      }
    },
    {
      "cell_type": "markdown",
      "source": [
        "### Mecanismo de transferencia de datos\n",
        "El hilo principal crea una estructura `thread_data_t` que contiene:\n",
        "- Un puntero al arreglo dinámico `fibonacci_array` donde se almacenarán los resultados.\n",
        "- El número de elementos `n` a calcular.\n",
        "\n",
        "Luego, se pasa **la dirección de esta estructura** como argumento al hilo trabajador mediante `pthread_create(&worker_thread, NULL, calcular_fibonacci, &thread_data);`.\n",
        "\n",
        "Esto permite que el hilo trabajador acceda directamente a la memoria compartida y almacene los resultados sin necesidad de copiar datos.  \n",
        "El paso del puntero es eficiente y seguro siempre que el hilo principal no libere ni modifique la estructura hasta que el hilo haya terminado.\n"
      ],
      "metadata": {
        "id": "gg74bny77fo6"
      }
    },
    {
      "cell_type": "markdown",
      "source": [
        "### Rol de pthread_join como mecanismo de sincronización\n",
        "`pthread_join(worker_thread, NULL)` es la llamada de sincronización que garantiza que el hilo principal espere a que el hilo trabajador termine su ejecución antes de continuar.\n",
        "\n",
        "Sin esta llamada, el hilo principal podría intentar acceder al arreglo `fibonacci_array` antes de que el hilo trabajador haya terminado de calcular los valores, generando resultados incorrectos o condiciones de carrera.\n",
        "\n",
        "En este contexto:\n",
        "- `pthread_join` actúa como una **barrera de sincronización** entre el hilo principal y el trabajador.\n",
        "- Asegura que la impresión y liberación de memoria ocurran **solo después** de que el cálculo se haya completado.\n"
      ],
      "metadata": {
        "id": "MkM_eKTX7o8x"
      }
    }
  ]
}